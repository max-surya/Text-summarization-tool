{
  "nbformat": 4,
  "nbformat_minor": 0,
  "metadata": {
    "colab": {
      "provenance": [],
      "authorship_tag": "ABX9TyOdcKxsh6kXe/A/u5o7QQ+U",
      "include_colab_link": true
    },
    "kernelspec": {
      "name": "python3",
      "display_name": "Python 3"
    },
    "language_info": {
      "name": "python"
    }
  },
  "cells": [
    {
      "cell_type": "markdown",
      "metadata": {
        "id": "view-in-github",
        "colab_type": "text"
      },
      "source": [
        "<a href=\"https://colab.research.google.com/github/max-surya/Text-summarization-tool/blob/main/Untitled5.ipynb\" target=\"_parent\"><img src=\"https://colab.research.google.com/assets/colab-badge.svg\" alt=\"Open In Colab\"/></a>"
      ]
    },
    {
      "cell_type": "code",
      "execution_count": null,
      "metadata": {
        "colab": {
          "base_uri": "https://localhost:8080/"
        },
        "id": "xEepgs7x7WN5",
        "outputId": "df39187e-88c8-4484-9a9c-468bd7afb233"
      },
      "outputs": [
        {
          "output_type": "stream",
          "name": "stderr",
          "text": [
            "Device set to use cpu\n",
            "Both `max_new_tokens` (=256) and `max_length`(=60) seem to have been set. `max_new_tokens` will take precedence. Please refer to the documentation for more information. (https://huggingface.co/docs/transformers/main/en/main_classes/text_generation)\n"
          ]
        },
        {
          "output_type": "stream",
          "name": "stdout",
          "text": [
            "Original Text:\n",
            " \n",
            "Mumbai Indians is a franchise cricket team that competes in the Indian Premier League (IPL). \n",
            "Owned by Reliance Industries, it is one of the most successful teams in the tournament's history. \n",
            "Led by Rohit Sharma for many seasons, the team has won the IPL title multiple times. \n",
            "They are known for their strong squad, including players like Jasprit Bumrah, Kieron Pollard, and Hardik Pandya. \n",
            "Their home ground is the Wankhede Stadium in Mumbai. The team has a massive fan base and is praised \n",
            "for its consistent performance and effective leadership. Mumbai Indians have contributed significantly \n",
            "to the development of young Indian cricket talent.\n",
            "\n",
            "\n",
            "--- Summary ---\n",
            " Mumbai Indians is a franchise cricket team that competes in the IPL . the team is owned by Rohit Sharma for many seasons . they are known for their strong squad .\n"
          ]
        }
      ],
      "source": [
        "\n",
        "# Step 1: Install lightweight transformer package\n",
        "!pip install -q transformers\n",
        "\n",
        "# Step 2: Import summarization pipeline\n",
        "from transformers import pipeline\n",
        "\n",
        "# Step 3: Use a smaller model (T5-small)\n",
        "summarizer = pipeline(\"summarization\", model=\"t5-small\", tokenizer=\"t5-small\")\n",
        "\n",
        "# Step 4: Provide the input text\n",
        "input_text = \"\"\"\n",
        "Mumbai Indians is a franchise cricket team that competes in the Indian Premier League (IPL).\n",
        "Owned by Reliance Industries, it is one of the most successful teams in the tournament's history.\n",
        "Led by Rohit Sharma for many seasons, the team has won the IPL title multiple times.\n",
        "They are known for their strong squad, including players like Jasprit Bumrah, Kieron Pollard, and Hardik Pandya.\n",
        "Their home ground is the Wankhede Stadium in Mumbai. The team has a massive fan base and is praised\n",
        "for its consistent performance and effective leadership. Mumbai Indians have contributed significantly\n",
        "to the development of young Indian cricket talent.\n",
        "\"\"\"\n",
        "\n",
        "# T5 model requires prefixing input with \"summarize: \"\n",
        "input_text = \"summarize: \" + input_text\n",
        "\n",
        "# Step 5: Generate summary\n",
        "summary = summarizer(input_text, max_length=60, min_length=20, do_sample=False)\n",
        "\n",
        "# Step 6: Display output\n",
        "print(\"Original Text:\\n\", input_text.replace(\"summarize: \", \"\"))\n",
        "print(\"\\n--- Summary ---\\n\", summary[0]['summary_text'])"
      ]
    }
  ]
}